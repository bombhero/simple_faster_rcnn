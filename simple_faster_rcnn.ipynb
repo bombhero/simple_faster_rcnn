{
 "cells": [
  {
   "cell_type": "code",
   "execution_count": 1,
   "metadata": {},
   "outputs": [
    {
     "name": "stdout",
     "output_type": "stream",
     "text": [
      "torch.Size([1, 3, 800, 800])\n",
      "Conv2d(3, 64, kernel_size=(3, 3), stride=(1, 1), padding=(1, 1))\n",
      "torch.Size([1, 64, 800, 800])\n",
      "ReLU(inplace=True)\n",
      "torch.Size([1, 64, 800, 800])\n",
      "Conv2d(64, 64, kernel_size=(3, 3), stride=(1, 1), padding=(1, 1))\n",
      "torch.Size([1, 64, 800, 800])\n",
      "ReLU(inplace=True)\n",
      "torch.Size([1, 64, 800, 800])\n",
      "MaxPool2d(kernel_size=2, stride=2, padding=0, dilation=1, ceil_mode=False)\n",
      "torch.Size([1, 64, 400, 400])\n",
      "Conv2d(64, 128, kernel_size=(3, 3), stride=(1, 1), padding=(1, 1))\n",
      "torch.Size([1, 128, 400, 400])\n",
      "ReLU(inplace=True)\n",
      "torch.Size([1, 128, 400, 400])\n",
      "Conv2d(128, 128, kernel_size=(3, 3), stride=(1, 1), padding=(1, 1))\n",
      "torch.Size([1, 128, 400, 400])\n",
      "ReLU(inplace=True)\n",
      "torch.Size([1, 128, 400, 400])\n",
      "MaxPool2d(kernel_size=2, stride=2, padding=0, dilation=1, ceil_mode=False)\n",
      "torch.Size([1, 128, 200, 200])\n",
      "Conv2d(128, 256, kernel_size=(3, 3), stride=(1, 1), padding=(1, 1))\n",
      "torch.Size([1, 256, 200, 200])\n",
      "ReLU(inplace=True)\n",
      "torch.Size([1, 256, 200, 200])\n",
      "Conv2d(256, 256, kernel_size=(3, 3), stride=(1, 1), padding=(1, 1))\n",
      "torch.Size([1, 256, 200, 200])\n",
      "ReLU(inplace=True)\n",
      "torch.Size([1, 256, 200, 200])\n",
      "Conv2d(256, 256, kernel_size=(3, 3), stride=(1, 1), padding=(1, 1))\n",
      "torch.Size([1, 256, 200, 200])\n",
      "ReLU(inplace=True)\n",
      "torch.Size([1, 256, 200, 200])\n",
      "MaxPool2d(kernel_size=2, stride=2, padding=0, dilation=1, ceil_mode=False)\n",
      "torch.Size([1, 256, 100, 100])\n",
      "Conv2d(256, 512, kernel_size=(3, 3), stride=(1, 1), padding=(1, 1))\n",
      "torch.Size([1, 512, 100, 100])\n",
      "ReLU(inplace=True)\n",
      "torch.Size([1, 512, 100, 100])\n",
      "Conv2d(512, 512, kernel_size=(3, 3), stride=(1, 1), padding=(1, 1))\n",
      "torch.Size([1, 512, 100, 100])\n",
      "ReLU(inplace=True)\n",
      "torch.Size([1, 512, 100, 100])\n",
      "Conv2d(512, 512, kernel_size=(3, 3), stride=(1, 1), padding=(1, 1))\n",
      "torch.Size([1, 512, 100, 100])\n",
      "ReLU(inplace=True)\n",
      "torch.Size([1, 512, 100, 100])\n",
      "MaxPool2d(kernel_size=2, stride=2, padding=0, dilation=1, ceil_mode=False)\n",
      "torch.Size([1, 512, 50, 50])\n",
      "Conv2d(512, 512, kernel_size=(3, 3), stride=(1, 1), padding=(1, 1))\n",
      "torch.Size([1, 512, 50, 50])\n",
      "ReLU(inplace=True)\n",
      "torch.Size([1, 512, 50, 50])\n",
      "Conv2d(512, 512, kernel_size=(3, 3), stride=(1, 1), padding=(1, 1))\n",
      "torch.Size([1, 512, 50, 50])\n",
      "ReLU(inplace=True)\n",
      "torch.Size([1, 512, 50, 50])\n",
      "Conv2d(512, 512, kernel_size=(3, 3), stride=(1, 1), padding=(1, 1))\n",
      "torch.Size([1, 512, 50, 50])\n",
      "ReLU(inplace=True)\n",
      "torch.Size([1, 512, 50, 50])\n",
      "MaxPool2d(kernel_size=2, stride=2, padding=0, dilation=1, ceil_mode=False)\n",
      "torch.Size([1, 512, 25, 25])\n",
      "30\n",
      "512\n"
     ]
    }
   ],
   "source": [
    "%matplotlib inline\n",
    "# coding:utf8\n",
    "\n",
    "import torch\n",
    "import torchvision\n",
    "from PIL import Image, ImageDraw\n",
    "import matplotlib.pyplot as plt \n",
    "import numpy as np\n",
    "\n",
    "img_tensor = torch.zeros((1, 3, 800, 800)).float()\n",
    "print(img_tensor.shape)\n",
    "# Out: torch.Size([1, 3, 800, 800])\n",
    "\n",
    "img_var = torch.autograd.Variable(img_tensor)\n",
    "\n",
    "model = torchvision.models.vgg16(pretrained=False)\n",
    "fe = list(model.features)\n",
    "# print(fe)  # length is 15\n",
    "\n",
    "req_features = []\n",
    "k = img_var.clone()\n",
    "for i in fe:\n",
    "    print(i)\n",
    "    k = i(k)\n",
    "    print(k.data.shape)\n",
    "    if k.size()[2] < 800//16:\n",
    "        break\n",
    "    req_features.append(i)\n",
    "    out_channels = k.size()[1]\n",
    "print(len(req_features))  # 30\n",
    "print(out_channels)  # 512"
   ]
  },
  {
   "cell_type": "code",
   "execution_count": 2,
   "metadata": {},
   "outputs": [
    {
     "name": "stdout",
     "output_type": "stream",
     "text": [
      "Conv2d(3, 64, kernel_size=(3, 3), stride=(1, 1), padding=(1, 1))\n",
      "ReLU(inplace=True)\n",
      "Conv2d(64, 64, kernel_size=(3, 3), stride=(1, 1), padding=(1, 1))\n",
      "ReLU(inplace=True)\n",
      "MaxPool2d(kernel_size=2, stride=2, padding=0, dilation=1, ceil_mode=False)\n",
      "Conv2d(64, 128, kernel_size=(3, 3), stride=(1, 1), padding=(1, 1))\n",
      "ReLU(inplace=True)\n",
      "Conv2d(128, 128, kernel_size=(3, 3), stride=(1, 1), padding=(1, 1))\n",
      "ReLU(inplace=True)\n",
      "MaxPool2d(kernel_size=2, stride=2, padding=0, dilation=1, ceil_mode=False)\n",
      "Conv2d(128, 256, kernel_size=(3, 3), stride=(1, 1), padding=(1, 1))\n",
      "ReLU(inplace=True)\n",
      "Conv2d(256, 256, kernel_size=(3, 3), stride=(1, 1), padding=(1, 1))\n",
      "ReLU(inplace=True)\n",
      "Conv2d(256, 256, kernel_size=(3, 3), stride=(1, 1), padding=(1, 1))\n",
      "ReLU(inplace=True)\n",
      "MaxPool2d(kernel_size=2, stride=2, padding=0, dilation=1, ceil_mode=False)\n",
      "Conv2d(256, 512, kernel_size=(3, 3), stride=(1, 1), padding=(1, 1))\n",
      "ReLU(inplace=True)\n",
      "Conv2d(512, 512, kernel_size=(3, 3), stride=(1, 1), padding=(1, 1))\n",
      "ReLU(inplace=True)\n",
      "Conv2d(512, 512, kernel_size=(3, 3), stride=(1, 1), padding=(1, 1))\n",
      "ReLU(inplace=True)\n",
      "MaxPool2d(kernel_size=2, stride=2, padding=0, dilation=1, ceil_mode=False)\n",
      "Conv2d(512, 512, kernel_size=(3, 3), stride=(1, 1), padding=(1, 1))\n",
      "ReLU(inplace=True)\n",
      "Conv2d(512, 512, kernel_size=(3, 3), stride=(1, 1), padding=(1, 1))\n",
      "ReLU(inplace=True)\n",
      "Conv2d(512, 512, kernel_size=(3, 3), stride=(1, 1), padding=(1, 1))\n",
      "ReLU(inplace=True)\n"
     ]
    }
   ],
   "source": [
    "for f in req_features:\n",
    "    print(f)"
   ]
  },
  {
   "cell_type": "code",
   "execution_count": 3,
   "metadata": {},
   "outputs": [
    {
     "name": "stdout",
     "output_type": "stream",
     "text": [
      "torch.Size([1, 512, 50, 50])\n"
     ]
    }
   ],
   "source": [
    "faster_rcnn_fe_extractor = torch.nn.Sequential(*req_features)\n",
    "out_map = faster_rcnn_fe_extractor(img_var)\n",
    "print(out_map.size())\n",
    "# Out: torch.Size([1, 512, 50, 50])"
   ]
  },
  {
   "cell_type": "code",
   "execution_count": 4,
   "metadata": {},
   "outputs": [
    {
     "name": "stdout",
     "output_type": "stream",
     "text": [
      "50\n"
     ]
    }
   ],
   "source": [
    "ratios = [0.5, 1, 2]\n",
    "anchor_scales = [8, 16, 32]\n",
    "sub_sample = 16\n",
    "\n",
    "# 一个特征点对应原图片中的16*16个像素点区域\n",
    "fe_size = (800//16)\n",
    "# ctr_x， ctr_y: 每个特征点对应原图片区域的右下方坐标\n",
    "ctr_x = np.arange(16, (fe_size+1) * 16, 16)\n",
    "ctr_y = np.arange(16, (fe_size+1) * 16, 16)\n",
    "print(len(ctr_x))  # 共50*50个特征点，将原图片分割成50*50=2500个区域"
   ]
  },
  {
   "cell_type": "code",
   "execution_count": 5,
   "metadata": {},
   "outputs": [
    {
     "name": "stdout",
     "output_type": "stream",
     "text": [
      "2500\n"
     ]
    }
   ],
   "source": [
    "index = 0\n",
    "# ctr: 每个特征点对应原图片区域的中心点\n",
    "ctr = dict()\n",
    "for x in range(len(ctr_x)):\n",
    "    for y in range(len(ctr_y)):\n",
    "        ctr[index] = [-1, -1]\n",
    "        ctr[index][1] = ctr_x[x] - 8\n",
    "        ctr[index][0] = ctr_y[y] - 8\n",
    "        index += 1\n",
    "# print ctr\n",
    "print(len(ctr))  # 将原图片分割成50*50=2500个区域的中心点"
   ]
  },
  {
   "cell_type": "code",
   "execution_count": 6,
   "metadata": {},
   "outputs": [
    {
     "name": "stdout",
     "output_type": "stream",
     "text": [
      "(22500, 4)\n",
      "(22500, 4)\n"
     ]
    }
   ],
   "source": [
    "# 初始化：每个区域有9个anchors候选框，每个候选框的坐标(y1, x1, y2, x2)\n",
    "anchors = np.zeros(((fe_size * fe_size * 9), 4))\n",
    "# (22500, 4)\n",
    "print(anchors.shape)\n",
    "index = 0\n",
    "# 将候选框的坐标赋值到anchors\n",
    "for c in ctr:\n",
    "    ctr_y, ctr_x = ctr[c]\n",
    "    for i in range(len(ratios)):\n",
    "        for j in range(len(anchor_scales)):\n",
    "            # anchor_scales 是针对特征图的，所以需要乘以下采样\"sub_sample\"\n",
    "            h = sub_sample * anchor_scales[j] * np.sqrt(ratios[i])\n",
    "            w = sub_sample * anchor_scales[j] * np.sqrt(1. / ratios[i])\n",
    "            anchors[index, 0] = ctr_y - h / 2.\n",
    "            anchors[index, 1] = ctr_x - w / 2.\n",
    "            anchors[index, 2] = ctr_y + h / 2.\n",
    "            anchors[index, 3] = ctr_x + w / 2.\n",
    "            index += 1\n",
    "# (22500, 4)\n",
    "print(anchors.shape)"
   ]
  },
  {
   "cell_type": "code",
   "execution_count": 8,
   "metadata": {},
   "outputs": [
    {
     "data": {
      "text/plain": [
       "<matplotlib.image.AxesImage at 0x2729d1df860>"
      ]
     },
     "execution_count": 8,
     "metadata": {},
     "output_type": "execute_result"
    },
    {
     "data": {
      "image/png": "[encoded data removed]",
      "text/plain": [
       "<Figure size 432x288 with 1 Axes>"
      ]
     },
     "metadata": {},
     "output_type": "display_data"
    }
   ],
   "source": [
    "img_npy = img_tensor.numpy()\n",
    "img_npy = np.transpose(img_npy[0], (1, 2, 0)).astype(np.float32)\n",
    "img = Image.fromarray(np.uint8(img_npy))\n",
    "draw = ImageDraw.Draw(img)\n",
    "plt.imshow(img)"
   ]
  },
  {
   "cell_type": "code",
   "execution_count": 9,
   "metadata": {},
   "outputs": [
    {
     "data": {
      "text/plain": [
       "<matplotlib.image.AxesImage at 0x2729d428550>"
      ]
     },
     "execution_count": 9,
     "metadata": {},
     "output_type": "execute_result"
    },
    {
     "data": {
      "image/png": "[encoded data removed]",
      "text/plain": [
       "<Figure size 432x288 with 1 Axes>"
      ]
     },
     "metadata": {},
     "output_type": "display_data"
    }
   ],
   "source": [
    "# for index in range(15000, 15009):\n",
    "# for index in range(len(anchors)):\n",
    "#     draw.rectangle([(anchors[index, 1], anchors[index, 0]), (anchors[index, 3], anchors[index, 2])],\n",
    "#                    outline=(255, 0, 0))\n",
    "\n",
    "# 假设 图片中的两个目标框\"ground-truth\"\n",
    "bbox = np.asarray([[20, 30, 400, 500], [300, 400, 500, 600]], dtype=np.float32)  # [y1, x1, y2, x2] format\n",
    "draw.rectangle([(30, 20), (500, 400)], outline=(100, 255, 0))\n",
    "draw.rectangle([(400, 300), (600, 500)], outline=(100, 255, 0))\n",
    "plt.imshow(img)"
   ]
  },
  {
   "cell_type": "code",
   "execution_count": 10,
   "metadata": {},
   "outputs": [
    {
     "name": "stdout",
     "output_type": "stream",
     "text": [
      "(8940,)\n"
     ]
    }
   ],
   "source": [
    "# 假设 图片中两个目标框分别对应的标签\n",
    "labels = np.asarray([6, 8], dtype=np.int8)  # 0 represents background\n",
    "\n",
    "# 去除坐标出界的边框，保留图片内的框——图片内框\n",
    "valid_anchor_index = np.where(\n",
    "       (anchors[:, 0] >= 0) &\n",
    "       (anchors[:, 1] >= 0) &\n",
    "       (anchors[:, 2] <= 800) &\n",
    "       (anchors[:, 3] <= 800)\n",
    "   )[0]  # 该函数返回数组中满足条件的index\n",
    "print(valid_anchor_index.shape)  # (8940,)，表明有8940个框满足条件"
   ]
  },
  {
   "cell_type": "code",
   "execution_count": 11,
   "metadata": {},
   "outputs": [
    {
     "name": "stdout",
     "output_type": "stream",
     "text": [
      "(8940, 4)\n"
     ]
    }
   ],
   "source": [
    "# 获取有效anchor（即边框都在图片内的anchor）的坐标\n",
    "valid_anchor_boxes = anchors[valid_anchor_index]\n",
    "print(valid_anchor_boxes.shape)  # (8940, 4)"
   ]
  },
  {
   "cell_type": "code",
   "execution_count": 13,
   "metadata": {},
   "outputs": [
    {
     "name": "stdout",
     "output_type": "stream",
     "text": [
      "[[ 20.  30. 400. 500.]\n",
      " [300. 400. 500. 600.]]\n"
     ]
    }
   ],
   "source": [
    "# 计算有效anchor框\"valid_anchor_boxes\"与目标框\"bbox\"的IOU\n",
    "ious = np.empty((len(valid_anchor_boxes), 2), dtype=np.float32)\n",
    "ious.fill(0)\n",
    "print(bbox)"
   ]
  },
  {
   "cell_type": "code",
   "execution_count": 15,
   "metadata": {},
   "outputs": [
    {
     "name": "stdout",
     "output_type": "stream",
     "text": [
      "(8940, 2)\n"
     ]
    },
    {
     "data": {
      "text/plain": [
       "array([[0.06811669, 0.        ],\n",
       "       [0.07083762, 0.        ],\n",
       "       [0.07083762, 0.        ],\n",
       "       [0.07083762, 0.        ],\n",
       "       [0.07083762, 0.        ]], dtype=float32)"
      ]
     },
     "execution_count": 15,
     "metadata": {},
     "output_type": "execute_result"
    }
   ],
   "source": [
    "for num1, i in enumerate(valid_anchor_boxes):\n",
    "    ya1, xa1, ya2, xa2 = i\n",
    "    anchor_area = (ya2 - ya1) * (xa2 - xa1)  # anchor框面积\n",
    "    for num2, j in enumerate(bbox):\n",
    "        yb1, xb1, yb2, xb2 = j\n",
    "        box_area = (yb2 - yb1) * (xb2 - xb1)  # 目标框面积\n",
    "        inter_x1 = max([xb1, xa1])\n",
    "        inter_y1 = max([yb1, ya1])\n",
    "        inter_x2 = min([xb2, xa2])\n",
    "        inter_y2 = min([yb2, ya2])\n",
    "        if (inter_x1 < inter_x2) and (inter_y1 < inter_y2):\n",
    "            iter_area = (inter_y2 - inter_y1) * (inter_x2 - inter_x1)  # anchor框和目标框的相交面积\n",
    "            iou = iter_area / (anchor_area + box_area - iter_area)  # IOU计算\n",
    "        else:\n",
    "            iou = 0.0\n",
    "        ious[num1, num2] = iou\n",
    "print(ious.shape)  # (8940, 2)  表示每个anchor框与所有目标框的IOU，这里所有的目标框共2个。\n",
    "ious[0:5, :]"
   ]
  },
  {
   "cell_type": "code",
   "execution_count": 16,
   "metadata": {},
   "outputs": [
    {
     "name": "stdout",
     "output_type": "stream",
     "text": [
      "[2262 5620]\n"
     ]
    }
   ],
   "source": [
    "gt_argmax_ious = ious.argmax(axis=0)  # 找出每个目标框最大IOU的anchor框index，共2个\n",
    "print(gt_argmax_ious)  # 共2个，与图片内目标框数量一致"
   ]
  },
  {
   "cell_type": "code",
   "execution_count": 17,
   "metadata": {},
   "outputs": [
    {
     "name": "stdout",
     "output_type": "stream",
     "text": [
      "[0.68130493 0.61035156]\n"
     ]
    }
   ],
   "source": [
    "gt_max_ious = ious[gt_argmax_ious, np.arange(ious.shape[1])]  # 获取每个目标框最大IOU的值，与gt_argmax_ious对应\n",
    "print(gt_max_ious)  # 共2个，与图片内目标框数量一致"
   ]
  },
  {
   "cell_type": "code",
   "execution_count": 18,
   "metadata": {},
   "outputs": [
    {
     "name": "stdout",
     "output_type": "stream",
     "text": [
      "(8940,)\n",
      "(8940,)\n"
     ]
    }
   ],
   "source": [
    "argmax_ious = ious.argmax(axis=1)  # 找出每个anchor框最大IOU的目标框index，共8940个\n",
    "print(argmax_ious.shape)  # (8940,) 每个anchor框都会对应一个最大IOU的目标框\n",
    "max_ious = ious[np.arange(len(valid_anchor_index)), argmax_ious]  # 获取每个anchor框的最大IOU值， 与argmax_ious对应\n",
    "print(max_ious.shape)  # (8940,),每个anchor框内都会有一个最大值"
   ]
  },
  {
   "cell_type": "code",
   "execution_count": 20,
   "metadata": {},
   "outputs": [
    {
     "name": "stdout",
     "output_type": "stream",
     "text": [
      "(18,)\n",
      "[  8.   8. 520. 520.]\n",
      "[  8.  24. 520. 536.]\n",
      "[248. 344. 504. 600.]\n",
      "[264. 344. 520. 600.]\n",
      "[280. 344. 536. 600.]\n",
      "[296. 344. 552. 600.]\n",
      "[248. 360. 504. 616.]\n",
      "[264. 360. 520. 616.]\n",
      "[280. 360. 536. 616.]\n",
      "[296. 360. 552. 616.]\n",
      "[248. 376. 504. 632.]\n",
      "[264. 376. 520. 632.]\n",
      "[280. 376. 536. 632.]\n",
      "[296. 376. 552. 632.]\n",
      "[248. 392. 504. 648.]\n",
      "[264. 392. 520. 648.]\n",
      "[280. 392. 536. 648.]\n",
      "[296. 392. 552. 648.]\n"
     ]
    },
    {
     "data": {
      "text/plain": [
       "<matplotlib.image.AxesImage at 0x2729d54eb00>"
      ]
     },
     "execution_count": 20,
     "metadata": {},
     "output_type": "execute_result"
    },
    {
     "data": {
      "image/png": "[encoded data removed]",
      "text/plain": [
       "<Figure size 432x288 with 1 Axes>"
      ]
     },
     "metadata": {},
     "output_type": "display_data"
    }
   ],
   "source": [
    "# 疑问： ious == gt_max_ious， 有区分目标\n",
    "gt_argmax_ious = np.where(ious == gt_max_ious)[0]  # 根据上面获取的目标最大IOU值，获取等于该值的index\n",
    "print(gt_argmax_ious.shape)  # (18,) 共计18个\n",
    "for index in gt_argmax_ious:\n",
    "    print(valid_anchor_boxes[index, :])\n",
    "    draw.rectangle([(valid_anchor_boxes[index, 1], valid_anchor_boxes[index, 0]),\n",
    "                    (valid_anchor_boxes[index, 3], valid_anchor_boxes[index, 2])], outline=(255, 0, 0))\n",
    "plt.imshow(img)"
   ]
  },
  {
   "cell_type": "code",
   "execution_count": 21,
   "metadata": {},
   "outputs": [
    {
     "name": "stdout",
     "output_type": "stream",
     "text": [
      "(8940,)\n",
      "18\n",
      "238\n"
     ]
    }
   ],
   "source": [
    "pos_iou_threshold = 0.7\n",
    "neg_iou_threshold = 0.3\n",
    "label = np.empty((len(valid_anchor_index), ), dtype=np.int32)\n",
    "label.fill(-1)\n",
    "print(label.shape)  # (8940,)\n",
    "label[max_ious < neg_iou_threshold] = 0  # anchor框内最大IOU值小于neg_iou_threshold，设为0\n",
    "label[gt_argmax_ious] = 1  # anchor框有全局最大IOU值，设为1\n",
    "label[max_ious >= pos_iou_threshold] = 1  # anchor框内最大IOU值大于等于pos_iou_threshold，设为1\n",
    "\n",
    "pos_ratio = 0.5\n",
    "n_sample = 256\n",
    "n_pos = pos_ratio * n_sample  # 正例样本数\n",
    "\n",
    "# 随机获取n_pos个正例，\n",
    "pos_index = np.where(label == 1)[0]\n",
    "if len(pos_index) > n_pos:\n",
    "    disable_index = np.random.choice(pos_index, size=(len(pos_index) - n_pos), replace=False)\n",
    "    label[disable_index] = -1\n",
    "\n",
    "n_neg = n_sample - np.sum(label == 1)\n",
    "neg_index = np.where(label == 0)[0]\n",
    "\n",
    "if len(neg_index) > n_neg:\n",
    "    disable_index = np.random.choice(neg_index, size=(len(neg_index) - n_neg), replace = False)\n",
    "    label[disable_index] = -1\n",
    "print(np.sum(label == 1))  # 18个正例\n",
    "print(np.sum(label == 0))  # 256-18=238个负例"
   ]
  },
  {
   "cell_type": "code",
   "execution_count": 22,
   "metadata": {},
   "outputs": [
    {
     "name": "stdout",
     "output_type": "stream",
     "text": [
      "[[ 20.  30. 400. 500.]\n",
      " [ 20.  30. 400. 500.]\n",
      " [ 20.  30. 400. 500.]\n",
      " ...\n",
      " [ 20.  30. 400. 500.]\n",
      " [ 20.  30. 400. 500.]\n",
      " [ 20.  30. 400. 500.]]\n",
      "(8940, 4)\n"
     ]
    }
   ],
   "source": [
    "# 现在让我们用具有最大iou的ground truth对象为每个anchor box分配位置。\n",
    "# 注意，我们将为所有有效的anchor box分配anchor locs，而不考虑其标签，稍后在计算损失时，我们可以使用简单的过滤器删除它们。\n",
    "max_iou_bbox = bbox[argmax_ious]  # 有效anchor框对应的目标框坐标  (8940, 4)\n",
    "print(max_iou_bbox)\n",
    "print(max_iou_bbox.shape)  # (8940, 4)，共有8940个有效anchor框，每个anchor有坐标值（y1, x1, y2, x2）"
   ]
  },
  {
   "cell_type": "code",
   "execution_count": 23,
   "metadata": {},
   "outputs": [
    {
     "name": "stdout",
     "output_type": "stream",
     "text": [
      "(8940, 4)\n"
     ]
    }
   ],
   "source": [
    "# 有效anchor的中心点和宽高：ctr_x, ctr_y, width, height\n",
    "height = valid_anchor_boxes[:, 2] - valid_anchor_boxes[:, 0]\n",
    "width = valid_anchor_boxes[:, 3] - valid_anchor_boxes[:, 1]\n",
    "ctr_y = valid_anchor_boxes[:, 0] + 0.5 * height\n",
    "ctr_x = valid_anchor_boxes[:, 1] + 0.5 * width\n",
    "# 有效anchor对应目标框的中心点和宽高: base_ctr_x, base_ctr_y, base_width, base_height\n",
    "base_height = max_iou_bbox[:, 2] - max_iou_bbox[:, 0]\n",
    "base_width = max_iou_bbox[:, 3] - max_iou_bbox[:, 1]\n",
    "base_ctr_y = max_iou_bbox[:, 0] + 0.5 * base_height\n",
    "base_ctr_x = max_iou_bbox[:, 1] + 0.5 * base_width\n",
    "\n",
    "# 有效anchor转为目标框的系数（dy，dx是平移系数；dh，dw是缩放系数）\n",
    "eps = np.finfo(height.dtype).eps\n",
    "height = np.maximum(height, eps)\n",
    "width = np.maximum(width, eps)\n",
    "dy = (base_ctr_y - ctr_y) / height\n",
    "dx = (base_ctr_x - ctr_x) / width\n",
    "dh = np.log(base_height / height)\n",
    "dw = np.log(base_width / width)\n",
    "anchor_locs = np.vstack((dy, dx, dh, dw)).transpose()\n",
    "# print anchor_locs\n",
    "print(anchor_locs.shape)"
   ]
  },
  {
   "cell_type": "code",
   "execution_count": null,
   "metadata": {},
   "outputs": [],
   "source": []
  }
 ],
 "metadata": {
  "kernelspec": {
   "display_name": "Python 3",
   "language": "python",
   "name": "python3"
  },
  "language_info": {
   "codemirror_mode": {
    "name": "ipython",
    "version": 3
   },
   "file_extension": ".py",
   "mimetype": "text/x-python",
   "name": "python",
   "nbconvert_exporter": "python",
   "pygments_lexer": "ipython3",
   "version": "3.6.5"
  }
 },
 "nbformat": 4,
 "nbformat_minor": 2
}
